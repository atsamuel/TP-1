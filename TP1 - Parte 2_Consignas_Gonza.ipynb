{
 "cells": [
  {
   "cell_type": "markdown",
   "metadata": {
    "collapsed": true,
    "id": "Dh8MkXaG-c9Y"
   },
   "source": [
    "# Curso de Big Data\n",
    "\n",
    "## Trabajo Práctico 1 - Parte 2"
   ]
  },
  {
   "cell_type": "markdown",
   "metadata": {
    "id": "RhBlm6mZ-c9e"
   },
   "source": [
    "### Reglas de formato y presentación\n",
    "- El trabajo debe estar bien comentado (utilizando #) para que el código sea fácil de entender por sus compañeros y profesores.\n",
    "\n",
    "- El mismo debe ser completado en este Jupyter Notebook y entregado como tal, es decir en un archivo .ipynb\n"
   ]
  },
  {
   "cell_type": "markdown",
   "metadata": {
    "id": "ZEjGaa4U-c9g"
   },
   "source": [
    "### Fecha de entrega:\n",
    "Miércoles 4 de octubre a las 23:59hs"
   ]
  },
  {
   "cell_type": "markdown",
   "metadata": {
    "id": "N9TU2y7E-c9h"
   },
   "source": [
    "### Modalidad de entrega\n",
    "- Al finalizar el trabajo práctico deben hacer un último <i>commit</i> en su repositorio de GitHub con el mensaje “Entrega final del tp”. \n",
    "- Asegurense de haber creado una carpeta llamada TP1. Este Jupyter Notebook y el correspondiente al TP1 - Parte 1 deben estar dentro de esa carpeta.\n",
    "- También deben completar el link de su repositorio -para que pueda ser clonado y corregido- en la siguiente google sheet: https://docs.google.com/spreadsheets/d/11nJY1Frgla45sTgsPiSeOZM9iBM-XRWh/edit?usp=sharing&ouid=105815768529474116534&rtpof=true&sd=true\n",
    "- La última versión en el repositorio es la que será evaluada. Por lo que es importante que: \n",
    "    - No completen la google sheet hasta no haber terminado y estar seguros de que han hecho el <i>commit y push</i> a la versión final que quieren entregar. Debido a que se pueden tomar hasta 3 días de extensión a lo largo del curso, no se  corregirán sus tareas hasta no ver el link en la google sheet.\n",
    "    - No hagan nuevos <i>push</i> despues de haber entregado su versión final. Esto generaría confusión acerca de que versión es la que quieren que se les corrija. "
   ]
  },
  {
   "cell_type": "markdown",
   "metadata": {
    "id": "ZXbrPraa-c9i"
   },
   "source": [
    "#### Ejercicio 1\n",
    "Usando la API de Mercado Libre, obtener los ítems de una consulta de búsqueda. Pueden buscar cualquier producto de su interés."
   ]
  },
  {
   "cell_type": "markdown",
   "metadata": {},
   "source": [
    "#### Ejercicio 2\n",
    "Guarden los precios de los ítems obtenidos en un dataframe y calculen el precio promedio, el mínimo y el máximo. "
   ]
  },
  {
   "cell_type": "markdown",
   "metadata": {},
   "source": [
    "#### Ejercicio 3\n",
    "Armen un histograma de los precios. ¿Ven algún <i>outlier<i>? \n",
    "Nota: pueden usar la librería de Matplotlib o la de Pandas."
   ]
  },
  {
   "cell_type": "code",
   "execution_count": 24,
   "metadata": {},
   "outputs": [
    {
     "name": "stdout",
     "output_type": "stream",
     "text": [
      "Título: Apple Macbook Air (13 Pulgadas, 2020, Chip M1, 256 Gb De Ssd, 8 Gb De Ram) - Gris Espacial - Distribuidor Autorizado\n",
      "Precio: 907199.1\n",
      "Condición: new\n",
      "Vendedor: 195832229\n",
      "------------\n",
      "Título: Apple Macbook Air (13 Pulgadas, 2020, Chip M1, 256 Gb De Ssd, 8 Gb De Ram) - Gris Espacial\n",
      "Precio: 710000\n",
      "Condición: new\n",
      "Vendedor: 148027380\n",
      "------------\n",
      "Título: Apple Macbook Air (13 Pulgadas, 2020, Chip M1, 256 Gb De Ssd, 8 Gb De Ram) - Plata\n",
      "Precio: 699000\n",
      "Condición: new\n",
      "Vendedor: 44778367\n",
      "------------\n",
      "Título: Apple Macbook Air (13 Pulgadas, 2020, Chip M1, 256 Gb De Ssd, 8 Gb De Ram) - Plata - Distribuidor Autorizado\n",
      "Precio: 907199.1\n",
      "Condición: new\n",
      "Vendedor: 195832229\n",
      "------------\n",
      "Título: Macbook Air M2 13.6, M2,8gb,256gb ,8core Gpu Space Gray\n",
      "Precio: 937422.85\n",
      "Condición: new\n",
      "Vendedor: 188368799\n",
      "------------\n",
      "Título: Apple Macbook Air (13 Pulgadas, 2020, Chip M1, 256 Gb De Ssd, 8 Gb De Ram) - Oro\n",
      "Precio: 745990\n",
      "Condición: new\n",
      "Vendedor: 1117191685\n",
      "------------\n",
      "Título: Apple Macbook Air (13 Pulgadas, 2020, Chip M1, 512 Gb De Ssd, 8 Gb De Ram) - Plata\n",
      "Precio: 2150000\n",
      "Condición: new\n",
      "Vendedor: 1070578988\n",
      "------------\n",
      "Título: Macbook Air M2 2022 Midnight 13.6 , Apple M2  8gb De Ram 256gb Ssd, Apple M2 10-core Gpu 2560x1664px Macos\n",
      "Precio: 1138100\n",
      "Condición: new\n",
      "Vendedor: 392053731\n",
      "------------\n",
      "Título: Macbook Air M2 2022 Silver 13.6 , Apple M2  8gb De Ram 256gb Ssd, Apple M2 10-core Gpu 2560x1664px Macos\n",
      "Precio: 1139999\n",
      "Condición: new\n",
      "Vendedor: 245645298\n",
      "------------\n",
      "Título: Apple Macbook Air (13 Pulgadas, 2020, Chip M1, 512 Gb De Ssd, 8 Gb De Ram) - Gris Espacial\n",
      "Precio: 2001998.86\n",
      "Condición: new\n",
      "Vendedor: 94607532\n",
      "------------\n"
     ]
    }
   ],
   "source": [
    "#Ejercicio 1\n",
    "import requests\n",
    "# URL base de la API del buscador de Mercado Libre\n",
    "url_base = \"https://api.mercadolibre.com/sites/MLA/search\"\n",
    "# Parámetros de búsqueda\n",
    "params = {\n",
    "    \"q\": \"Apple Macbook Air\",\n",
    "    \"limit\": 10\n",
    "}\n",
    "# Realizamos la solicitud GET a la API de Mercado Libre\n",
    "response = requests.get(url_base, params=params)\n",
    "# Comprobamos si la solicitud fue exitosa (código de respuesta 200)\n",
    "if response.status_code == 200:\n",
    "    # Parsear (interpretar) la respuesta JSON\n",
    "    data = response.json()    \n",
    "    # Obtener la lista de ítems\n",
    "    items = data.get(\"results\", [])   \n",
    "    # Iterar sobre los ítems y mostrar información relevante\n",
    "    for item in items:\n",
    "        print(\"Título:\", item.get(\"title\"))\n",
    "        print(\"Precio:\", item.get(\"price\"))\n",
    "        print(\"Condición:\", item.get(\"condition\"))\n",
    "        print(\"Vendedor:\", item.get(\"seller\").get(\"id\"))\n",
    "        print(\"------------\")\n",
    "else:\n",
    "    print(\"Error al realizar la solicitud a la API\")"
   ]
  },
  {
   "cell_type": "code",
   "execution_count": 2,
   "metadata": {
    "scrolled": true
   },
   "outputs": [
    {
     "name": "stdout",
     "output_type": "stream",
     "text": [
      "Precio Promedio: 1203671.9849999999\n",
      "Precio Mínimo: 699000.0\n",
      "Precio Máximo: 2150000.0\n"
     ]
    },
    {
     "data": {
      "image/png": "[encoded data removed]",
      "text/plain": [
       "<Figure size 640x480 with 1 Axes>"
      ]
     },
     "metadata": {},
     "output_type": "display_data"
    }
   ],
   "source": [
    "#Ejercicio 2 y 3\n",
    "import requests\n",
    "import pandas as pd\n",
    "import matplotlib.pyplot as plt\n",
    "url_base = \"https://api.mercadolibre.com/sites/MLA/search\"\n",
    "params = {\n",
    "    \"q\": \"Apple Macbook Air\",  \n",
    "    \"limit\": 10\n",
    "}\n",
    "response = requests.get(url_base, params=params)\n",
    "if response.status_code == 200:\n",
    "    data = response.json()\n",
    "    items = data.get(\"results\", [])\n",
    "    # Crear una lista para almacenar los precios de los ítems\n",
    "    precios = []\n",
    "    # Iterar sobre los ítems y guardar los precios en la lista\n",
    "    for item in items:\n",
    "        precio = item.get(\"price\")\n",
    "        if precio is not None:  # Verificar si el precio no es None\n",
    "            precios.append(precio)\n",
    "    # Crear un DataFrame a partir de la lista de precios\n",
    "    df = pd.DataFrame({\"Precio\": precios})  \n",
    "    # Calcular el precio promedio, mínimo y máximo\n",
    "    precio_promedio = df[\"Precio\"].mean()\n",
    "    precio_minimo = df[\"Precio\"].min()\n",
    "    precio_maximo = df[\"Precio\"].max() \n",
    "    # Imprimir los resultados\n",
    "    print(f\"Precio Promedio: {precio_promedio}\")\n",
    "    print(f\"Precio Mínimo: {precio_minimo}\")\n",
    "    print(f\"Precio Máximo: {precio_maximo}\")\n",
    "    \n",
    "    # Crear un histograma de los precios\n",
    "    plt.hist(precios, bins=20, color='blue', edgecolor='black')\n",
    "    plt.title('Histograma de Precios')\n",
    "    plt.xlabel('Precio')\n",
    "    plt.ylabel('Frecuencia')\n",
    "    plt.show()\n",
    "    \n",
    "\n",
    "    \n",
    "else:\n",
    "    print(\"Error al realizar la solicitud a la API\")\n"
   ]
  },
  {
   "cell_type": "code",
   "execution_count": null,
   "metadata": {
    "scrolled": true
   },
   "outputs": [],
   "source": []
  },
  {
   "cell_type": "code",
   "execution_count": null,
   "metadata": {},
   "outputs": [],
   "source": []
  }
 ],
 "metadata": {
  "anaconda-cloud": {},
  "colab": {
   "name": "TP1 - Parte 1.ipynb",
   "provenance": []
  },
  "kernelspec": {
   "display_name": "Python 3 (ipykernel)",
   "language": "python",
   "name": "python3"
  },
  "language_info": {
   "codemirror_mode": {
    "name": "ipython",
    "version": 3
   },
   "file_extension": ".py",
   "mimetype": "text/x-python",
   "name": "python",
   "nbconvert_exporter": "python",
   "pygments_lexer": "ipython3",
   "version": "3.11.4"
  }
 },
 "nbformat": 4,
 "nbformat_minor": 1
}
