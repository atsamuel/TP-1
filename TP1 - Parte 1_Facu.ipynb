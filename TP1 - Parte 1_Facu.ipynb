{
 "cells": [
  {
   "cell_type": "markdown",
   "metadata": {
    "collapsed": true,
    "id": "Dh8MkXaG-c9Y"
   },
   "source": [
    "# Curso de Big Data\n",
    "\n",
    "## Trabajo Práctico 1 - Parte 1"
   ]
  },
  {
   "cell_type": "markdown",
   "metadata": {
    "id": "RhBlm6mZ-c9e"
   },
   "source": [
    "### Reglas de formato y presentación\n",
    "- El trabajo debe estar bien comentado (utilizando #) para que el código sea fácil de entender por sus compañeros y profesores.\n",
    "\n",
    "- El mismo debe ser completado en este Jupyter Notebook y entregado como tal, es decir en un archivo .ipynb\n"
   ]
  },
  {
   "cell_type": "markdown",
   "metadata": {
    "id": "ZEjGaa4U-c9g"
   },
   "source": [
    "### Fecha de entrega:\n",
    "Miércoles 4 de octubre a las 23:59hs"
   ]
  },
  {
   "cell_type": "markdown",
   "metadata": {
    "id": "N9TU2y7E-c9h"
   },
   "source": [
    "### Modalidad de entrega\n",
    "- Al finalizar el trabajo práctico deben hacer un último <i>commit</i> en su repositorio de GitHub con el mensaje “Entrega final del tp”. \n",
    "- Asegurense de haber creado una carpeta llamada TP1. Este Jupyter Notebook y el correspondiente al TP1 - Parte 2 deben estar dentro de esa carpeta.\n",
    "- También deben completar el link de su repositorio -para que pueda ser clonado y corregido- en la siguiente google sheet: https://docs.google.com/spreadsheets/d/11nJY1Frgla45sTgsPiSeOZM9iBM-XRWh/edit?usp=sharing&ouid=105815768529474116534&rtpof=true&sd=true\n",
    "- La última versión en el repositorio es la que será evaluada. Por lo que es importante que: \n",
    "    - No completen la google sheet hasta no haber terminado y estar seguros de que han hecho el <i>commit y push</i> a la versión final que quieren entregar. Debido a que se pueden tomar hasta 3 días de extensión a lo largo del curso, no se  corregirán sus tareas hasta no ver el link en la google sheet.\n",
    "    - No hagan nuevos <i>push</i> despues de haber entregado su versión final. Esto generaría confusión acerca de que versión es la que quieren que se les corrija. "
   ]
  },
  {
   "cell_type": "markdown",
   "metadata": {
    "id": "ZXbrPraa-c9i"
   },
   "source": [
    "#### Ejercicio 1\n",
    "Este ejercicio simplemente busca repasar lo que aprendimos sobre definición de variables. Definir dos variables con un nombre combinado (al menos dos palabras), una que se pueda crear y otra que tenga un nombre inaceptable (genera error). Explicar por qué ocurre el error."
   ]
  },
  {
   "cell_type": "code",
   "execution_count": 1,
   "metadata": {
    "id": "mb7PkXfN-c9j"
   },
   "outputs": [
    {
     "name": "stdout",
     "output_type": "stream",
     "text": [
      "1Facu\n"
     ]
    },
    {
     "ename": "TypeError",
     "evalue": "can only concatenate str (not \"int\") to str",
     "output_type": "error",
     "traceback": [
      "\u001b[1;31m---------------------------------------------------------------------------\u001b[0m",
      "\u001b[1;31mTypeError\u001b[0m                                 Traceback (most recent call last)",
      "Cell \u001b[1;32mIn[1], line 8\u001b[0m\n\u001b[0;32m      4\u001b[0m \u001b[38;5;28mprint\u001b[39m(var_1) \u001b[38;5;66;03m# Una variable con dos strings no genera problemas.\u001b[39;00m\n\u001b[0;32m      6\u001b[0m \u001b[38;5;66;03m# Caso B (acá debería saltar un error)\u001b[39;00m\n\u001b[1;32m----> 8\u001b[0m var_2 \u001b[38;5;241m=\u001b[39m \u001b[38;5;124m\"\u001b[39m\u001b[38;5;124m2\u001b[39m\u001b[38;5;124m\"\u001b[39m \u001b[38;5;241m+\u001b[39m \u001b[38;5;241m2\u001b[39m\n\u001b[0;32m      9\u001b[0m \u001b[38;5;28mprint\u001b[39m(var_2)\n",
      "\u001b[1;31mTypeError\u001b[0m: can only concatenate str (not \"int\") to str"
     ]
    }
   ],
   "source": [
    "# Caso A\n",
    "\n",
    "var_1 = \"1\" + \"Facu\" \n",
    "print(var_1) # Una variable con dos strings no genera problemas.\n",
    "\n",
    "# Caso B (acá debería saltar un error)\n",
    "\n",
    "var_2 = \"2\" + 2\n",
    "print(var_2) # Una variable mezclando tipos de datos es incorrecta."
   ]
  },
  {
   "cell_type": "markdown",
   "metadata": {},
   "source": [
    "#### Ejercicio 2\n",
    "Importar módulos. Usando el módulo math impriman la tangente de 1. ¿Cuál es el resultado?\n",
    "Hagan este cálculo de dos formas: primero importando el módulo math y usando la función correspondiente y luego solo importando la función específica que precisan para el cálculo."
   ]
  },
  {
   "cell_type": "code",
   "execution_count": null,
   "metadata": {},
   "outputs": [],
   "source": [
    "# Caso A\n",
    "\n",
    "import math\n",
    "print(math.tan(1))\n",
    "\n",
    "# Caso B\n",
    "\n",
    "from math import tan as tn\n",
    "print(tn(1))"
   ]
  },
  {
   "cell_type": "markdown",
   "metadata": {
    "id": "GlNh0fyv-c9l"
   },
   "source": [
    "#### Ejercicio 3 \n",
    "Este ejercicio trata sobre lograr el intercambio de valores entre dos variables utilizando una variable temporal para hacerlo. Las variables temporales y la sustitución de valores termina siendo útil en algunos loops. Los pasos a seguir son: (a) definir variables A y B (cuyos valores buscaremos invertir); (b) definir una variable temporal que resguarde el valor de B; (c) sustitución (asignar B igual a A y también A igual al valor original de B); (d) imprimir valores para verificar."
   ]
  },
  {
   "cell_type": "code",
   "execution_count": null,
   "metadata": {
    "id": "uWalSYFC-c9m"
   },
   "outputs": [],
   "source": [
    "# a) Definir variables A y B, \n",
    "A = \"valor de A\"\n",
    "print(A)\n",
    "B = \"Valor de B\"\n",
    "print(B)\n",
    "\n",
    "# b) Definir variable temporal \"tmp\" igual a B (la variable, no el valor)\n",
    "\n",
    "tmp = B\n",
    "print(tmp) # Verificamos que la variable tiene los valores de B.\n",
    "\n",
    "# c) Ahora sustituir variables: variable B igual a variable A (la variable, no el\n",
    "# valor) y viceversa.\n",
    "\n",
    "B = A # Alteramos el valor de B.\n",
    "\n",
    "# d) Verifiquemos resultados: imprimir variables A y B\n",
    "\n",
    "print(A)\n",
    "print(B) # Comprobamos el cambio del valor de la variable temporal."
   ]
  },
  {
   "cell_type": "markdown",
   "metadata": {
    "id": "wXhAaRyN-c9p"
   },
   "source": [
    "#### Ejercicio 4\n",
    "En este ejercicio se busca poner en práctica el uso de range() en un for loop. \n",
    "\n",
    "Construir un for loop usando un range(). El range debe ser entre los valores que quieran (con una diferencia mínima de 15 entre start y stop), en incrementos de 3 unidades. Dentro del loop, implementar una sentencia condicional que imprima una leyenda indicando si el input es par o impar."
   ]
  },
  {
   "cell_type": "code",
   "execution_count": null,
   "metadata": {
    "id": "_oE5sG0c-c9q"
   },
   "outputs": [],
   "source": [
    "# Resolver acá\n",
    "\n",
    "for i in range(1,63,3): #Creamos el rango de 1 a 63 con saltos de 3.\n",
    "    if i%2 ==0: # definimos a los números pares como los que se puede dividir sin dejar resto.\n",
    "        print(i, \"es par.\")\n",
    "    else:\n",
    "        print (i, \"es impar.\")"
   ]
  },
  {
   "cell_type": "markdown",
   "metadata": {
    "id": "h3g5bXUB-c9u"
   },
   "source": [
    "#### Ejercicio 5\n",
    "Para practicar el uso de condiciones lógicas y la definición de funciones, construir una función con una sentencia condicional que verifique si un año es bisiesto o no. Para que un año sea bisiesto debe cumplir una de dos condiciones:\n",
    "\n",
    "(a) que sea divisible por 400; o\n",
    "\n",
    "(b) que sea divisible por 4 y no sea divisible por 100\n",
    "\n",
    "Notar que son dos condiciones, donde la segunda condición tiene dos componentes. Prueben la función con 3 valores para verificar que funcione."
   ]
  },
  {
   "cell_type": "code",
   "execution_count": null,
   "metadata": {
    "id": "7_MnILdz-c9v"
   },
   "outputs": [],
   "source": [
    "# Resolver acá\n",
    "\n",
    "year = int(input(\"Por favor introduzca el año: \")) # Permitimos que el individuo ponga los años que desea consultar, que luego son transformados a enteros para poder ser comparados en la operación lógica.\n",
    "\n",
    "if year%400==0:\n",
    "    print(year, \" es bisiesto.\") # Si el año cumple con esta característica, es bisiesto y se lo advertimos al usuario. \n",
    "elif year%4==0 and year%100!=0:\n",
    "    print(year, \" es bisiesto.\") # Si el año cumple con esta característica, es bisiesto y se lo advertimos al usuario.\n",
    "else:\n",
    "    print(year, \" no es bisiesto.\") # Si el año no cumple con ninguna característica, no es bisiesto y se lo advertimos al usuario."
   ]
  },
  {
   "cell_type": "markdown",
   "metadata": {
    "collapsed": true,
    "id": "P3a7bJkd-c9w"
   },
   "source": [
    "#### Ejercicio 6 \n",
    "Pongamos en práctica identificar el type() de cada variable. A continuación tenemos una lista con elementos de diferentes tipos. Construyan un for loop que itere sobre la lista e imprima un cartel indicando el tipo de dato u objeto que hay en cada caso."
   ]
  },
  {
   "cell_type": "code",
   "execution_count": null,
   "metadata": {
    "id": "jDf4d_Wr-c9w"
   },
   "outputs": [],
   "source": [
    "mi_lista = [10, 34.5, 99999, 'abc', [1,2,3], ('ARG', 1810), {'pob': 45}, True]\n",
    "\n",
    "for i in mi_lista: #construimos el loop.\n",
    "    print(\"El elemento \", mi_lista.index(i)+1, \"de la lista es un \", type(i)) # Nos devuelve el tipo de dato de cada objeto de la lista, con su posición dentro de la misma."
   ]
  },
  {
   "cell_type": "code",
   "execution_count": null,
   "metadata": {
    "id": "SAJgEiNEFQAS"
   },
   "outputs": [],
   "source": []
  },
  {
   "cell_type": "markdown",
   "metadata": {
    "id": "y1lncitl-c9x"
   },
   "source": [
    "#### Ejercicio 7\n",
    "Ahora definan ustedes una nueva lista, en la que los primeros cuatro elementos sean palabras (strings), el quinto elemento no sea string, y el sexto sea string. Construyan un for loop que corra por la lista y que imprima la palabra y la longitud de la misma. Que el loop contenga una sentencia condicional que imprima un cartel \"Elemento no es un string: < el elemento > | < class del elemento >\" para los casos dónde el elemento evaluado no sea string."
   ]
  },
  {
   "cell_type": "code",
   "execution_count": null,
   "metadata": {
    "id": "bFOk9Os0-c9x"
   },
   "outputs": [],
   "source": [
    "# Resolver acá\n",
    "\n",
    "Facu_list = [\"Facu\", \"se\", \"sacó\", \"un\", 10, \"en el TP1 de Big Data.\"] # Construimos la lista ;)\n",
    "\n",
    "for i in Facu_list: #construimos el loop.\n",
    "    if type(i) == str: \n",
    "        print(\"El elemento \", i, \"es un string y tiene longitud\", len(i), \".\") # Si el elemento de la lista es un string, nos va a imprimir el nombre del elemento y su longitud.\n",
    "    else:\n",
    "        print(\"Elemento no es un string: \", i, \"|\", type(i), \".\") # Caso contrario, nos devuelve esto."
   ]
  },
  {
   "cell_type": "markdown",
   "metadata": {
    "id": "PUpxDz72-c9x"
   },
   "source": [
    "#### Ejercicio 8\n",
    "Argentina tiene una representación legislativa proporcional en la cual la cantidad de diputados se debería ajustar según el tamaño de población de cada provincia. Otra característica de la representación legislativa del país es que hay una cantidad mínima de diputados por provincia (5). Esto genera un desbalance en la cantidad de ciudadanos por cada representante en el Congreso entre provincias.\n",
    "\n",
    "A continuación preparamos algunos ejemplos, dividiendo la población de cada provincia (según estimación para el 2022) por la cantidad de representantes en el Congreso para esa misma jurisdicción. También armamos el equivalente para el total país y una lista con los valores provinciales.\n",
    "\n",
    "En este ejercicio les pedimos que construyan un for loop que itere sobre el diccionario definido y compare cada valor provincial contra el valor de proporcionalidad directa (la variable argentina). El loop debe imprimir una leyenda que indique si la provincia está sobrerepresentada, subrepresentada o con representación proporcional. Además, queremos que el mismo loop compare los valores de las provincias sobrerepresentadas y que guarde el valor de la provincia con mayor sobrerepresentación. Luego del loop impriman este valor así podemos ver que haya funcionado.\n",
    "\n",
    "Fuente para población: https://es.wikipedia.org/wiki/Demograf%C3%ADa_de_Argentina\n",
    "\n",
    "Fuente para representantes: https://es.wikipedia.org/wiki/C%C3%A1mara_de_Diputados_de_la_Naci%C3%B3n_Argentina"
   ]
  },
  {
   "cell_type": "code",
   "execution_count": 5,
   "metadata": {
    "id": "hd8Z5AHs-c9y"
   },
   "outputs": [
    {
     "name": "stdout",
     "output_type": "stream",
     "text": [
      "Referencia nacional:  179162.26848249027\n",
      "Cordoba:  221054.66666666666\n",
      "Santa Fe:  187185.36842105264\n",
      "Mendoza:  201453.3\n",
      "Buenos Aires:  250986.4714285714\n",
      "Entre Ríos:  158491.77777777778\n",
      "Santa Cruz:  66694.6\n",
      "Formosa:  121208.2\n",
      "Córdoba está subrepresentada.\n",
      "Santa Fe está subrepresentada.\n",
      "Mendoza está subrepresentada.\n",
      "Buenos Aires está subrepresentada.\n",
      "Entre Ríos está sobrepresentada.\n",
      "Santa Cruz está sobrepresentada.\n",
      "Formosa está sobrepresentada.\n",
      "La provincia más sobrerepresentada es Santa Cruz con una sobrerepresentación de 66694.6.\n"
     ]
    }
   ],
   "source": [
    "# Valor de referencia: proporcionalidad\n",
    "argentina = 46044703 / 257\n",
    "print(\"Referencia nacional: \", argentina)\n",
    "\n",
    "# Creamos variables para una selección de jurisdicciones\n",
    "cordoba = 3978984 / 18\n",
    "santa_fe = 3556522 / 19\n",
    "mendoza = 2014533 / 10\n",
    "buenos_aires = 17569053 / 70\n",
    "entre_rios =  1426426 / 9\n",
    "santa_cruz = 333473 / 5\n",
    "formosa = 606041 / 5\n",
    "\n",
    "print(\"Cordoba: \",cordoba)\n",
    "print(\"Santa Fe: \",santa_fe)\n",
    "print(\"Mendoza: \", mendoza)\n",
    "print(\"Buenos Aires: \", buenos_aires)\n",
    "print(\"Entre Ríos: \", entre_rios)\n",
    "print(\"Santa Cruz: \", santa_cruz)\n",
    "print(\"Formosa: \", formosa)\n",
    "\n",
    "# Definimos el diccionario para iterar\n",
    "dict_provincias = {\n",
    "    \"Córdoba\": cordoba,\n",
    "    \"Santa Fe\": santa_fe,\n",
    "    \"Mendoza\": mendoza,\n",
    "    \"Buenos Aires\": buenos_aires,\n",
    "    \"Entre Ríos\": entre_rios,\n",
    "    \"Santa Cruz\": santa_cruz,\n",
    "    \"Formosa\": formosa\n",
    "}\n",
    "\n",
    "prov_mas_sob = \"\" # Definimos una variable que guarde la key de la provincia con mayor sobrerepresentación.\n",
    "max_sobrerepresentacion = 0 # Definimos una variable que guarde el value de la provincia con mayor sobrerepresentación.\n",
    "\n",
    "for key, value in dict_provincias.items(): # Creamos el for loop, que analiza la sobre/subrepresentación. \n",
    "    if value > argentina:\n",
    "        print(key, \"está subrepresentada.\")\n",
    "        \n",
    "    elif value < argentina:\n",
    "        print(key, \"está sobrepresentada.\")\n",
    "        if value < max_sobrerepresentacion or max_sobrerepresentacion == 0:\n",
    "            max_sobrerepresentacion = value # creamos un if adentro del if del loop para comparar los valores de cada loop, registrando tanto la key como el value de la provincia más sobrerepresentada a medida que avanzan los loops.\n",
    "            prov_mas_sob = key\n",
    "        \n",
    "    else: \n",
    "        print(key, \"está bien representada.\") # Para un caso raro.\n",
    "        \n",
    "print(f\"La provincia más sobrerepresentada es {prov_mas_sob} con una sobrerepresentación de {max_sobrerepresentacion}.\") # Por último con un fstring mostramos la provincia más sobrerepresentada y su valor de sobrerepresentación."
   ]
  },
  {
   "cell_type": "markdown",
   "metadata": {
    "id": "GokZe5tV-c9z"
   },
   "source": [
    "#### Ejercicio 9\n",
    "Si buscáramos minimizar la sobrepresentación de la provincia de Buenos Aires, ¿cuántos representantes debería tener según el Censo 2022? Usemos el mismo criterio de sub/sobrerepresentacion que en el ejercicio anterior: población sobre cantidad de representantes.\n",
    "\n",
    "Para responder esta pregunta construyan un while loop que incremente de a uno la cantidad de representantes de la Provincia hasta minimizar la sobrepresentación. En cada iteración impriman un cartel que diga: \"Se agregó un representante, el total ahora es X\" dónde X es el número de representantes simulado."
   ]
  },
  {
   "cell_type": "code",
   "execution_count": 1,
   "metadata": {
    "id": "x9DvuXa_-c9z"
   },
   "outputs": [
    {
     "name": "stdout",
     "output_type": "stream",
     "text": [
      "El valor de referencia nacional es  179162.26848249027\n",
      "El valor de representación de PBA inicial es  251348.9714285714\n",
      "Se sumó un representante, el total ahora es 71.\n",
      "Se sumó un representante, el total ahora es 72.\n",
      "Se sumó un representante, el total ahora es 73.\n",
      "Se sumó un representante, el total ahora es 74.\n",
      "Se sumó un representante, el total ahora es 75.\n",
      "Se sumó un representante, el total ahora es 76.\n",
      "Se sumó un representante, el total ahora es 77.\n",
      "Se sumó un representante, el total ahora es 78.\n",
      "Se sumó un representante, el total ahora es 79.\n",
      "Se sumó un representante, el total ahora es 80.\n",
      "Se sumó un representante, el total ahora es 81.\n",
      "Se sumó un representante, el total ahora es 82.\n",
      "Se sumó un representante, el total ahora es 83.\n",
      "Se sumó un representante, el total ahora es 84.\n",
      "Se sumó un representante, el total ahora es 85.\n",
      "Se sumó un representante, el total ahora es 86.\n",
      "Se sumó un representante, el total ahora es 87.\n",
      "Se sumó un representante, el total ahora es 88.\n",
      "Se sumó un representante, el total ahora es 89.\n",
      "Se sumó un representante, el total ahora es 90.\n",
      "Se sumó un representante, el total ahora es 91.\n",
      "Se sumó un representante, el total ahora es 92.\n",
      "Se sumó un representante, el total ahora es 93.\n",
      "Se sumó un representante, el total ahora es 94.\n",
      "Se sumó un representante, el total ahora es 95.\n",
      "Se sumó un representante, el total ahora es 96.\n",
      "Se sumó un representante, el total ahora es 97.\n",
      "Se sumó un representante, el total ahora es 98.\n",
      "Se sumó un representante, el total ahora es 99.\n",
      "Para corregir la subrepresentación de BA, necesitaríamos entonces  99 representantes.\n"
     ]
    }
   ],
   "source": [
    "# Estos son los valores de la provincia\n",
    "representantes_pba = 70\n",
    "poblacion2010_pba = 17594428\n",
    "\n",
    "# Y el valor de referencia nacional\n",
    "argentina = 46044703 / 257\n",
    "print(\"El valor de referencia nacional es \", argentina)\n",
    "\n",
    "# Valor de representacion de PBA\n",
    "representacion_pba = poblacion2010_pba / representantes_pba # Construimos una variable para comparar con el valor de referencia nacional.\n",
    "print(\"El valor de representación de PBA inicial es \", representacion_pba)\n",
    "\n",
    "# While Loop\n",
    "\n",
    "representantes_pba_ajustado = representantes_pba # Creamos una variable temporal que actualizará el valor de comparación a cada iteración.\n",
    "\n",
    "while representacion_pba > argentina: # construimos el while loop: cada iteración comparara la representación de PBA con la referencia nacional; si es mayor, le suma un representante, actualiza el valor e imprime de la suma de representante y de la cantidad ajustada. Luego se actualiza el valor de la representación de PBA, por el código de arriba.\n",
    "    representantes_pba_ajustado += 1\n",
    "    representacion_pba = poblacion2010_pba / representantes_pba_ajustado\n",
    "    print(f\"Se sumó un representante, el total ahora es {representantes_pba_ajustado}.\")\n",
    "\n",
    "print(\"Para corregir la subrepresentación de BA, necesitaríamos entonces \", representantes_pba_ajustado, \"representantes.\" ) # Una vez que la representación de PBA es corregida, se sale del while loop e imprime este mensaje de conclusión."
   ]
  },
  {
   "cell_type": "markdown",
   "metadata": {},
   "source": [
    "#### Ejercicio 10\n",
    "Construyan una función llamada suma que tome una cantidad variable de parámetros y devuelva el resultado de la suma."
   ]
  },
  {
   "cell_type": "code",
   "execution_count": 1,
   "metadata": {},
   "outputs": [
    {
     "name": "stdout",
     "output_type": "stream",
     "text": [
      "Introduzca sus parámetros (numéricos). Cuando haya terminado, escriba 'stop': 7\n",
      "Introduzca sus parámetros (numéricos). Cuando haya terminado, escriba 'stop': 7\n",
      "Introduzca sus parámetros (numéricos). Cuando haya terminado, escriba 'stop': 7\n",
      "Introduzca sus parámetros (numéricos). Cuando haya terminado, escriba 'stop': 8\n",
      "Introduzca sus parámetros (numéricos). Cuando haya terminado, escriba 'stop': 7\n",
      "Introduzca sus parámetros (numéricos). Cuando haya terminado, escriba 'stop': stop\n",
      "La suma de los parámetros introducidos es: 36.0\n"
     ]
    }
   ],
   "source": [
    "parametros_base = []  # Inicializamos la lista que contendrá los parámetros.\n",
    "\n",
    "parametro_new = input(\"Introduzca sus parámetros (numéricos). Cuando haya terminado, escriba 'stop': \")\n",
    "\n",
    "while parametro_new != \"stop\": # while loop que seguirá iterando hasta que el usuario ponga 'stop' en el prompt.\n",
    "    try:\n",
    "        parametro_numerico = float(parametro_new)  # Cambiamos el tipo de dato del input, para luego poder sumarlo.\n",
    "        parametros_base.append(parametro_numerico)\n",
    "    except ValueError: # Para evitar crashes, ponemos un manejo de errores.\n",
    "        print(\"Por favor, ingrese un valor numérico válido.\")\n",
    "    \n",
    "    parametro_new = input(\"Introduzca sus parámetros (numéricos). Cuando haya terminado, escriba 'stop': \") # Volvemos a iniciar el prompt antes de volver al chequeo del while loop.\n",
    "\n",
    "if parametros_base:  # Creamos una condición para validar que la lista conteniendo los parámetros no esté vacía.\n",
    "    suma_parametros = sum(parametros_base) # sumamos los elementos, ya convertidos a floats numéricos, de la lista\n",
    "    print(f\"La suma de los parámetros introducidos es: {suma_parametros}\") # Devolvemos el valor de la suma de los parámetros numéricos introducidos\n",
    "else:\n",
    "    print(\"No se han introducido parámetros numéricos.\") # Mensaje de error si el usuario hace lo que quiere.\n"
   ]
  },
  {
   "cell_type": "code",
   "execution_count": null,
   "metadata": {},
   "outputs": [],
   "source": []
  }
 ],
 "metadata": {
  "anaconda-cloud": {},
  "colab": {
   "name": "TP1 - Parte 1.ipynb",
   "provenance": []
  },
  "kernelspec": {
   "display_name": "Python 3 (ipykernel)",
   "language": "python",
   "name": "python3"
  },
  "language_info": {
   "codemirror_mode": {
    "name": "ipython",
    "version": 3
   },
   "file_extension": ".py",
   "mimetype": "text/x-python",
   "name": "python",
   "nbconvert_exporter": "python",
   "pygments_lexer": "ipython3",
   "version": "3.11.4"
  }
 },
 "nbformat": 4,
 "nbformat_minor": 1
}
