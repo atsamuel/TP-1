{
 "cells": [
  {
   "cell_type": "markdown",
   "metadata": {
    "collapsed": true,
    "id": "Dh8MkXaG-c9Y"
   },
   "source": [
    "# Curso de Big Data\n",
    "\n",
    "## Trabajo Práctico 1 - Parte 1"
   ]
  },
  {
   "cell_type": "markdown",
   "metadata": {
    "id": "RhBlm6mZ-c9e"
   },
   "source": [
    "### Reglas de formato y presentación\n",
    "- El trabajo debe estar bien comentado (utilizando #) para que el código sea fácil de entender por sus compañeros y profesores.\n",
    "\n",
    "- El mismo debe ser completado en este Jupyter Notebook y entregado como tal, es decir en un archivo .ipynb\n"
   ]
  },
  {
   "cell_type": "markdown",
   "metadata": {
    "id": "ZEjGaa4U-c9g"
   },
   "source": [
    "### Fecha de entrega:\n",
    "Miércoles 4 de octubre a las 23:59hs"
   ]
  },
  {
   "cell_type": "markdown",
   "metadata": {
    "id": "N9TU2y7E-c9h"
   },
   "source": [
    "### Modalidad de entrega\n",
    "- Al finalizar el trabajo práctico deben hacer un último <i>commit</i> en su repositorio de GitHub con el mensaje “Entrega final del tp”.\n",
    "- Asegurense de haber creado una carpeta llamada TP1. Este Jupyter Notebook y el correspondiente al TP1 - Parte 2 deben estar dentro de esa carpeta.\n",
    "- También deben completar el link de su repositorio -para que pueda ser clonado y corregido- en la siguiente google sheet: https://docs.google.com/spreadsheets/d/11nJY1Frgla45sTgsPiSeOZM9iBM-XRWh/edit?usp=sharing&ouid=105815768529474116534&rtpof=true&sd=true\n",
    "- La última versión en el repositorio es la que será evaluada. Por lo que es importante que:\n",
    "    - No completen la google sheet hasta no haber terminado y estar seguros de que han hecho el <i>commit y push</i> a la versión final que quieren entregar. Debido a que se pueden tomar hasta 3 días de extensión a lo largo del curso, no se  corregirán sus tareas hasta no ver el link en la google sheet.\n",
    "    - No hagan nuevos <i>push</i> despues de haber entregado su versión final. Esto generaría confusión acerca de que versión es la que quieren que se les corrija."
   ]
  },
  {
   "cell_type": "markdown",
   "metadata": {
    "id": "ZXbrPraa-c9i"
   },
   "source": [
    "#### Ejercicio 1\n",
    "Este ejercicio simplemente busca repasar lo que aprendimos sobre definición de variables. Definir dos variables con un nombre combinado (al menos dos palabras), una que se pueda crear y otra que tenga un nombre inaceptable (genera error). Explicar por qué ocurre el error."
   ]
  },
  {
   "cell_type": "code",
   "execution_count": null,
   "metadata": {
    "colab": {
     "base_uri": "https://localhost:8080/",
     "height": 144
    },
    "id": "mb7PkXfN-c9j",
    "outputId": "e57f91e6-f2eb-40d8-d955-0a02491fa705"
   },
   "outputs": [],
   "source": [
    "# Caso A\n",
    "facu_gonza = \"Facu y Gonza\"\n",
    "\n",
    "# Caso B (acá deberían saltar un errores)\n",
    "noe_vicu = Noelia y Victoria\n",
    "#SyntaxError: invalid syntax. No se puede asignar valores a variables sin respetar la correcta sintaxis. En este caso las palabras Noelia, y, Victoria no están definidias y por lo tanto no se pueden unir. Por otro lado la palabra y no funciona como operador de unión en Python.\n",
    "var_2 = \"2\" + 2\n",
    "# TypeError: can only concatenate str (not \"int\") to str. Una variable mezclando tipos de datos es incorrecta.\n",
    "variable error = 7\n",
    "#SyntaxError: invalid syntax. El error se debe a que hay un espacio cuando definimos la variable, lo cual no está permitido según las reglas de nombramiento de variables en Python.\n"
   ]
  },
  {
   "cell_type": "markdown",
   "metadata": {
    "id": "qIrILH5g_O1h"
   },
   "source": [
    "#### Ejercicio 2\n",
    "Importar módulos. Usando el módulo math impriman la tangente de 1. ¿Cuál es el resultado?\n",
    "Hagan este cálculo de dos formas: primero importando el módulo math y usando la función correspondiente y luego solo importando la función específica que precisan para el cálculo."
   ]
  },
  {
   "cell_type": "code",
   "execution_count": null,
   "metadata": {
    "colab": {
     "base_uri": "https://localhost:8080/"
    },
    "id": "8j95Pzbd_O1i",
    "outputId": "8aa7a01e-90c0-4452-9e8a-bd3ae0854b5d"
   },
   "outputs": [],
   "source": [
    "# Caso A\n",
    "import math\n",
    "\n",
    "tangente_de_1 = math.tan(1)\n",
    "print(\"Tangente de 1 importando el módulo math:\", tangente_de_1)\n",
    "\n",
    "\n",
    "# Caso B\n",
    "from math import tan\n",
    "\n",
    "tangente_de_1 = tan(1)\n",
    "print(\"Tangente de 1 importando la función específica:\", tangente_de_1)"
   ]
  },
  {
   "cell_type": "markdown",
   "metadata": {
    "id": "GlNh0fyv-c9l"
   },
   "source": [
    "#### Ejercicio 3\n",
    "Este ejercicio trata sobre lograr el intercambio de valores entre dos variables utilizando una variable temporal para hacerlo. Las variables temporales y la sustitución de valores termina siendo útil en algunos loops. Los pasos a seguir son: (a) definir variables A y B (cuyos valores buscaremos invertir); (b) definir una variable temporal que resguarde el valor de B; (c) sustitución (asignar B igual a A y también A igual al valor original de B); (d) imprimir valores para verificar."
   ]
  },
  {
   "cell_type": "code",
   "execution_count": null,
   "metadata": {
    "colab": {
     "base_uri": "https://localhost:8080/"
    },
    "id": "uWalSYFC-c9m",
    "outputId": "a970bb24-9665-4f59-f804-a93bdaf63fe5"
   },
   "outputs": [],
   "source": [
    "# a) Definir variables A y B,\n",
    "a = 1\n",
    "b = 2\n",
    "\n",
    "# b) Definir variable temporal \"tmp\" igual a B (la variable, no el valor)\n",
    "tmp = b\n",
    "\n",
    "# c) Ahora sustituir variables: variable B igual a variable A (la variable, no el\n",
    "# valor) y viceversa.\n",
    "b = a\n",
    "a = tmp\n",
    "\n",
    "\n",
    "# d) Verifiquemos resultados: imprimir variables A y B\n",
    "print(\"Después de sustituir:\")\n",
    "print(\"a =\", a)\n",
    "print(\"b =\", b)"
   ]
  },
  {
   "cell_type": "markdown",
   "metadata": {
    "id": "wXhAaRyN-c9p"
   },
   "source": [
    "#### Ejercicio 4\n",
    "En este ejercicio se busca poner en práctica el uso de range() en un for loop.\n",
    "\n",
    "Construir un for loop usando un range(). El range debe ser entre los valores que quieran (con una diferencia mínima de 15 entre start y stop), en incrementos de 3 unidades. Dentro del loop, implementar una sentencia condicional que imprima una leyenda indicando si el input es par o impar."
   ]
  },
  {
   "cell_type": "code",
   "execution_count": null,
   "metadata": {
    "colab": {
     "base_uri": "https://localhost:8080/"
    },
    "id": "_oE5sG0c-c9q",
    "outputId": "4bfbc13c-351d-4e02-e30d-886fa03deffc"
   },
   "outputs": [],
   "source": [
    "# Resolver acá\n",
    "i = 0\n",
    "for i in range(0,15):\n",
    "  i += 2*i + 1\n",
    "  if i%2==0:\n",
    "    print(i, \"es par\")\n",
    "  else:\n",
    "    print(i, \"es impar\")"
   ]
  },
  {
   "cell_type": "markdown",
   "metadata": {
    "id": "h3g5bXUB-c9u"
   },
   "source": [
    "#### Ejercicio 5\n",
    "Para practicar el uso de condiciones lógicas y la definición de funciones, construir una función con una sentencia condicional que verifique si un año es bisiesto o no. Para que un año sea bisiesto debe cumplir una de dos condiciones:\n",
    "\n",
    "(a) que sea divisible por 400; o\n",
    "\n",
    "(b) que sea divisible por 4 y no sea divisible por 100\n",
    "\n",
    "Notar que son dos condiciones, donde la segunda condición tiene dos componentes. Prueben la función con 3 valores para verificar que funcione."
   ]
  },
  {
   "cell_type": "code",
   "execution_count": null,
   "metadata": {
    "colab": {
     "base_uri": "https://localhost:8080/"
    },
    "id": "7_MnILdz-c9v",
    "outputId": "3c6bf5c2-6326-4e7e-d4a5-0350cc8146b1"
   },
   "outputs": [],
   "source": [
    "# Resolver acá\n",
    "def bisiesto(year):\n",
    "  if year % 400 == 0 or (year % 4 == 0 and year % 100 != 0):\n",
    "    print(year,'es año bisiesto')\n",
    "  else:\n",
    "    print(year,'no es año bisiesto')\n",
    "\n",
    "bisiesto(2012)\n",
    "bisiesto(2020)\n",
    "bisiesto(1900)"
   ]
  },
  {
   "cell_type": "markdown",
   "metadata": {
    "collapsed": true,
    "id": "P3a7bJkd-c9w"
   },
   "source": [
    "#### Ejercicio 6\n",
    "Pongamos en práctica identificar el type() de cada variable. A continuación tenemos una lista con elementos de diferentes tipos. Construyan un for loop que itere sobre la lista e imprima un cartel indicando el tipo de dato u objeto que hay en cada caso."
   ]
  },
  {
   "cell_type": "code",
   "execution_count": null,
   "metadata": {
    "id": "jDf4d_Wr-c9w"
   },
   "outputs": [],
   "source": [
    "mi_lista = [10, 34.5, 99999, 'abc', [1,2,3], ('ARG', 1810), {'pob': 45}, True]"
   ]
  },
  {
   "cell_type": "code",
   "execution_count": null,
   "metadata": {
    "colab": {
     "base_uri": "https://localhost:8080/"
    },
    "id": "SAJgEiNEFQAS",
    "outputId": "209925d6-3c7c-457b-e57d-42d85c55a10c"
   },
   "outputs": [],
   "source": [
    "# Resolver acá\n",
    "for i in mi_lista: #construimos el loop.\n",
    "    print(\"El elemento\", mi_lista.index(i)+1, \"de la lista es un\", type(i)) # Nos devuelve el tipo de dato de cada objeto de la lista, con su posición dentro de la misma."
   ]
  },
  {
   "cell_type": "markdown",
   "metadata": {
    "id": "y1lncitl-c9x"
   },
   "source": [
    "#### Ejercicio 7\n",
    "Ahora definan ustedes una nueva lista, en la que los primeros cuatro elementos sean palabras (strings), el quinto elemento no sea string, y el sexto sea string. Construyan un for loop que corra por la lista y que imprima la palabra y la longitud de la misma. Que el loop contenga una sentencia condicional que imprima un cartel \"Elemento no es un string: < el elemento > | < class del elemento >\" para los casos dónde el elemento evaluado no sea string."
   ]
  },
  {
   "cell_type": "code",
   "execution_count": null,
   "metadata": {
    "colab": {
     "base_uri": "https://localhost:8080/"
    },
    "id": "bFOk9Os0-c9x",
    "outputId": "88afde4f-c0e6-4711-f2a4-af6c162e8a0d"
   },
   "outputs": [],
   "source": [
    "# Resolver acá\n",
    "nueva_lista = ['Boca', 'quiere', 'ganar', 'la', 7, 'Libertadores']\n",
    "\n",
    "for elemento in nueva_lista:\n",
    "    if isinstance(elemento, str):\n",
    "        print(f\"Palabra: {elemento}, Longitud: {len(elemento)}\")\n",
    "    else:\n",
    "        print(f\"Elemento no es un string: {elemento} | {type(elemento)}\")"
   ]
  },
  {
   "cell_type": "markdown",
   "metadata": {
    "id": "PUpxDz72-c9x"
   },
   "source": [
    "#### Ejercicio 8\n",
    "Argentina tiene una representación legislativa proporcional en la cual la cantidad de diputados se debería ajustar según el tamaño de población de cada provincia. Otra característica de la representación legislativa del país es que hay una cantidad mínima de diputados por provincia (5). Esto genera un desbalance en la cantidad de ciudadanos por cada representante en el Congreso entre provincias.\n",
    "\n",
    "A continuación preparamos algunos ejemplos, dividiendo la población de cada provincia (según estimación para el 2022) por la cantidad de representantes en el Congreso para esa misma jurisdicción. También armamos el equivalente para el total país y una lista con los valores provinciales.\n",
    "\n",
    "En este ejercicio les pedimos que construyan un for loop que itere sobre el diccionario definido y compare cada valor provincial contra el valor de proporcionalidad directa (la variable argentina). El loop debe imprimir una leyenda que indique si la provincia está sobrerepresentada, subrepresentada o con representación proporcional. Además, queremos que el mismo loop compare los valores de las provincias sobrerepresentadas y que guarde el valor de la provincia con mayor sobrerepresentación. Luego del loop impriman este valor así podemos ver que haya funcionado.\n",
    "\n",
    "Fuente para población: https://es.wikipedia.org/wiki/Demograf%C3%ADa_de_Argentina\n",
    "\n",
    "Fuente para representantes: https://es.wikipedia.org/wiki/C%C3%A1mara_de_Diputados_de_la_Naci%C3%B3n_Argentina"
   ]
  },
  {
   "cell_type": "code",
   "execution_count": null,
   "metadata": {
    "id": "hd8Z5AHs-c9y"
   },
   "outputs": [],
   "source": [
    "# Valor de referencia: proporcionalidad\n",
    "argentina = 46044703 / 257\n",
    "\n",
    "# Creamos variables para una selección de jurisdicciones\n",
    "cordoba = 3978984 / 18\n",
    "santa_fe = 3556522 / 19\n",
    "mendoza = 2014533 / 10\n",
    "buenos_aires = 17569053 / 70\n",
    "entre_rios =  1426426 / 9\n",
    "santa_cruz = 333473 / 5\n",
    "formosa = 606041 / 5\n",
    "\n",
    "# Definimos el diccionario para iterar\n",
    "dict_provincias = {\n",
    "    \"Córdoba\": cordoba,\n",
    "    \"Santa Fe\": santa_fe,\n",
    "    \"Mendoza\": mendoza,\n",
    "    \"Buenos Aires\": buenos_aires,\n",
    "    \"Entre Ríos\": entre_rios,\n",
    "    \"Santa Cruz\": santa_cruz,\n",
    "    \"Formosa\": formosa\n",
    "}"
   ]
  },
  {
   "cell_type": "code",
   "execution_count": null,
   "metadata": {
    "colab": {
     "base_uri": "https://localhost:8080/"
    },
    "id": "fsEHnxiY-c9y",
    "outputId": "d95d7887-0300-4e59-8b36-3f06cee6320f",
    "scrolled": true
   },
   "outputs": [],
   "source": [
    "# Resolver acá\n",
    "prov_mas_sob = \"\" # Definimos una variable que guarde la key de la provincia con mayor sobrerepresentación.\n",
    "max_sobrerepresentacion = 0 # Definimos una variable que guarde el value de la provincia con mayor sobrerepresentación.\n",
    "\n",
    "for key, value in dict_provincias.items(): # Creamos el for loop, que analiza la sobre/subrepresentación.\n",
    "    if value > argentina:\n",
    "        print(key, \"está subrepresentada.\")\n",
    "\n",
    "    elif value < argentina:\n",
    "        print(key, \"está sobrepresentada.\")\n",
    "        if value < max_sobrerepresentacion or max_sobrerepresentacion == 0:\n",
    "            max_sobrerepresentacion = value # creamos un if adentro del if del loop para comparar los valores de cada loop, registrando tanto la key como el value de la provincia más sobrerepresentada a medida que avanzan los loops.\n",
    "            prov_mas_sob = key\n",
    "\n",
    "    else:\n",
    "        print(key, \"está bien representada.\") # Para un caso raro.\n",
    "\n",
    "print(f\"La provincia más sobrerepresentada es {prov_mas_sob} con una sobrerepresentación de {max_sobrerepresentacion}.\") # Por último con un fstring mostramos la provincia más sobrerepresentada y su valor de sobrerepresentación."
   ]
  },
  {
   "cell_type": "markdown",
   "metadata": {
    "id": "GokZe5tV-c9z"
   },
   "source": [
    "#### Ejercicio 9\n",
    "Si buscáramos minimizar la subrepresentación de la provincia de Buenos Aires, ¿cuántos representantes debería tener según el Censo 2022? Usemos el mismo criterio de sub/sobrerepresentacion que en el ejercicio anterior: población sobre cantidad de representantes.\n",
    "\n",
    "Para responder esta pregunta construyan un while loop que incremente de a uno la cantidad de representantes de la Provincia hasta minimizar la subrepresentación. En cada iteración impriman un cartel que diga: \"Se agregó un representante, el total ahora es X\" dónde X es el número de representantes simulado."
   ]
  },
  {
   "cell_type": "code",
   "execution_count": null,
   "metadata": {
    "id": "x9DvuXa_-c9z"
   },
   "outputs": [],
   "source": [
    "# Estos son los valores de la provincia\n",
    "representantes_pba = 70\n",
    "poblacion2010_pba = 17594428\n",
    "\n",
    "\n",
    "# Y el valor de referencia nacional\n",
    "argentina = 46044703 / 257\n"
   ]
  },
  {
   "cell_type": "code",
   "execution_count": null,
   "metadata": {
    "colab": {
     "base_uri": "https://localhost:8080/"
    },
    "id": "8AGltNRP_O1l",
    "outputId": "a77b3b8f-501b-4d75-a43f-4504387e2098"
   },
   "outputs": [],
   "source": [
    "# Resolver acá\n",
    "while poblacion2010_pba/representantes_pba > argentina:\n",
    "  representantes_pba += 1\n",
    "  print('Se agregó a un representante, el total ahora es', representantes_pba)\n",
    "\n",
    "print(\"Para corregir la subrepresentación de BA, necesitaríamos entonces\", representantes_pba, \"representantes.\" ) # Una vez que la representación de PBA es corregida, se sale del while loop e imprime este mensaje de conclusión."
   ]
  },
  {
   "cell_type": "markdown",
   "metadata": {
    "id": "HjPxp6s3_O1l"
   },
   "source": [
    "#### Ejercicio 10\n",
    "Construyan una función llamada suma que tome una cantidad variable de parámetros y devuelva el resultado de la suma."
   ]
  },
  {
   "cell_type": "code",
   "execution_count": null,
   "metadata": {
    "colab": {
     "base_uri": "https://localhost:8080/"
    },
    "id": "289JJA0X_O1l",
    "outputId": "4ff3907c-7e84-4c50-c9d2-1271e8bfece5"
   },
   "outputs": [],
   "source": [
    "parametros_base = []  # Inicializamos la lista que contendrá los parámetros.\n",
    "\n",
    "parametro_new = input(\"Introduzca sus parámetros (numéricos). Cuando haya terminado, escriba 'stop': \")\n",
    "\n",
    "while parametro_new != \"stop\": # while loop que seguirá iterando hasta que el usuario ponga 'stop' en el prompt.\n",
    "        parametro_numerico = float(parametro_new)  # Cambiamos el tipo de dato del input, para luego poder sumarlo.\n",
    "        parametros_base.append(parametro_numerico)\n",
    "        parametro_new = input(\"Introduzca sus parámetros (numéricos). Cuando haya terminado, escriba 'stop': \") # Volvemos a iniciar el prompt antes de volver al chequeo del while loop.\n",
    "\n",
    "if parametros_base:  # Creamos una condición para validar que la lista conteniendo los parámetros no esté vacía.\n",
    "    suma_parametros = sum(parametros_base) # sumamos los elementos, ya convertidos a floats numéricos, de la lista\n",
    "    print(f\"La suma de los parámetros introducidos es: {suma_parametros}\") # Devolvemos el valor de la suma de los parámetros numéricos introducidos\n",
    "else:\n",
    "    print(\"No se han introducido parámetros numéricos.\") # Mensaje de error si el usuario hace lo que quiere.\n"
   ]
  },
  {
   "cell_type": "code",
   "execution_count": null,
   "metadata": {},
   "outputs": [],
   "source": []
  }
 ],
 "metadata": {
  "anaconda-cloud": {},
  "colab": {
   "provenance": []
  },
  "kernelspec": {
   "display_name": "Python 3 (ipykernel)",
   "language": "python",
   "name": "python3"
  },
  "language_info": {
   "codemirror_mode": {
    "name": "ipython",
    "version": 3
   },
   "file_extension": ".py",
   "mimetype": "text/x-python",
   "name": "python",
   "nbconvert_exporter": "python",
   "pygments_lexer": "ipython3",
   "version": "3.11.4"
  }
 },
 "nbformat": 4,
 "nbformat_minor": 1
}
